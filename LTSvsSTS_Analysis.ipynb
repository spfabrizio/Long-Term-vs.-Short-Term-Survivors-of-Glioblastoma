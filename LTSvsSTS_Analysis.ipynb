{
 "cells": [
  {
   "cell_type": "markdown",
   "metadata": {},
   "source": [
    "# Data Extraction"
   ]
  },
  {
   "cell_type": "code",
   "execution_count": 34,
   "metadata": {},
   "outputs": [
    {
     "name": "stdout",
     "output_type": "stream",
     "text": [
      "    CD11c_R   CD163_R   CD205_R   CD206_R     CD4_R    CD68_R     CD8_R  \\\n",
      "0  1.718650  1.279580  1.291313  1.320160  1.271361  1.480703  1.792970   \n",
      "1  1.408775  1.185836  1.162614  1.277001  1.158582  1.323625  1.511998   \n",
      "2  1.375834  1.215163  1.214893  1.241554  1.201734  1.326974  1.669916   \n",
      "3  1.291155  1.157090  1.143222  1.193628  1.137302  1.338515  1.589854   \n",
      "4  1.361338  1.217770  1.226446  1.240057  1.220055  1.607614  2.043101   \n",
      "\n",
      "     GFAP_R  P2RY12_R    TIM3_R  ...   NFAT2_R     PD1_R    PDL1_R  \\\n",
      "0  6.366225  1.238896  1.300555  ...  1.361937  1.248473  1.211943   \n",
      "1  1.475472  1.144202  1.177474  ...  1.267683  1.180220  1.136906   \n",
      "2  2.159774  1.193256  1.216544  ...  1.311968  1.182485  1.176295   \n",
      "3  1.290747  1.128667  1.168130  ...  1.233378  1.155979  1.111266   \n",
      "4  1.452176  1.200380  1.216018  ...  1.526071  1.209795  1.177958   \n",
      "\n",
      "   Perforin_R    pLCK_R  pSTAT3_R    SOX2_R    TNFa_R  cCasp3+GFAP+ Distance  \\\n",
      "0    1.279095  2.016448  1.141481  1.121672  1.652815             366.758292   \n",
      "1    1.278686  1.771396  1.116743  1.098732  1.683533             369.312297   \n",
      "2    1.275523  1.538923  1.123409  1.116228  1.566990             369.252059   \n",
      "3    1.158804  1.505016  1.056390  1.064108  1.542541             365.736945   \n",
      "4    1.402901  2.034429  1.115337  1.123458  1.942730             447.754264   \n",
      "\n",
      "   cCasp3+GFAP- Distance  \n",
      "0             133.723797  \n",
      "1             135.107068  \n",
      "2             135.196626  \n",
      "3             136.515742  \n",
      "4              53.525730  \n",
      "\n",
      "[5 rows x 31 columns]\n"
     ]
    }
   ],
   "source": [
    "import pandas as pd\n",
    "import numpy as np\n",
    "df = pd.read_csv(\"LTSvsSTS-Data/NU00759_LTSvsSTS.csv\")\n",
    "print(df.head())\n"
   ]
  },
  {
   "cell_type": "code",
   "execution_count": 36,
   "metadata": {},
   "outputs": [
    {
     "name": "stdout",
     "output_type": "stream",
     "text": [
      "          NU00759\n",
      "CD11c        8761\n",
      "CD163        7073\n",
      "CD205          86\n",
      "CD206        7752\n",
      "CD8            71\n",
      "CD4           489\n",
      "CD103        3246\n",
      "FOXP3           0\n",
      "GFAP         3777\n",
      "GRZMB           1\n",
      "HLADR        1706\n",
      "INFgamma        4\n",
      "Ki67          819\n",
      "NFAT1          38\n",
      "NFAT2           1\n",
      "P2RY12        200\n",
      "PD1            21\n",
      "PDL1           27\n",
      "Perforin        0\n",
      "SOX2          277\n",
      "TIM3         7560\n",
      "TNFa            4\n",
      "cCasp3       1687\n",
      "pLCK          353\n",
      "pSTAT3        249\n",
      "CD68         3235\n"
     ]
    }
   ],
   "source": [
    "def threshold_counts(filelist, thresholdlist):\n",
    "    count_matrix = {}\n",
    "    # Add and modify row names\n",
    "    row_names = [s.replace(\"_R\", \"\") for s in thresholdlist[next(iter(thresholdlist))].keys()]\n",
    "    \n",
    "    for file in filelist:\n",
    "        df = pd.read_csv(file)\n",
    "        # Extract thresholds to that file\n",
    "        thresholds = thresholdlist[file]\n",
    "\n",
    "        # Initialize count list to be added to count_matrix\n",
    "        file_counts = []\n",
    "        for thr in thresholds: \n",
    "            # Thresholding\n",
    "            df[thr] = df[thr].apply(lambda x: 1 if x >= thresholds[thr] else 0)\n",
    "\n",
    "            # Column wise summing for counts\n",
    "            file_counts.append(df[thr].sum())\n",
    "        \n",
    "        # Add and modify column names to matrix\n",
    "        column_name = file.replace(\"LTSvsSTS-Data/\", \"\").replace(\"_LTSvsSTS.csv\", \"\")\n",
    "        count_matrix[column_name] = file_counts\n",
    "\n",
    "    return pd.DataFrame(count_matrix, index=row_names)\n",
    "\n",
    "filelist = [\"LTSvsSTS-Data/NU00759_LTSvsSTS.csv\"]\n",
    "thresholdlist = {\n",
    "    \"LTSvsSTS-Data/NU00759_LTSvsSTS.csv\": {\"CD11c_R\": 1.62, \"CD163_R\": 1.39, \"CD205_R\": 1.74, \"CD206_R\": 1.69, \"CD8_R\": 3.91,\n",
    "                                           \"CD4_R\": 1.42, \"CD103_R\": 1.64, \"FOXP3_R\": 2.2, \"GFAP_R\": 6.5, \"GRZMB_R\": 6.42,\n",
    "                                           \"HLADR_R\": 2.63, \"INFgamma_R\": 4.94, \"Ki67_R\": 2.80, \"NFAT1_R\": 2.20, \"NFAT2_R\": 4.49,\n",
    "                                           \"P2RY12_R\": 1.43, \"PD1_R\": 2.12, \"PDL1_R\": 1.57, \"Perforin_R\": 3.0, \"SOX2_R\": 1.48,\n",
    "                                           \"TIM3_R\": 1.40, \"TNFa_R\": 3.78, \"cCasp3_R\": 1.38, \"pLCK_R\": 2.55, \"pSTAT3_R\": 1.42,\n",
    "                                           \"CD68_R\": 1.89}\n",
    "}\n",
    "\n",
    "print(threshold_counts(filelist, thresholdlist))"
   ]
  }
 ],
 "metadata": {
  "kernelspec": {
   "display_name": "Python 3",
   "language": "python",
   "name": "python3"
  },
  "language_info": {
   "codemirror_mode": {
    "name": "ipython",
    "version": 3
   },
   "file_extension": ".py",
   "mimetype": "text/x-python",
   "name": "python",
   "nbconvert_exporter": "python",
   "pygments_lexer": "ipython3",
   "version": "3.11.9"
  }
 },
 "nbformat": 4,
 "nbformat_minor": 2
}
